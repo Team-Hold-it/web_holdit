{
 "cells": [
  {
   "cell_type": "code",
   "execution_count": 1,
   "metadata": {},
   "outputs": [
    {
     "data": {
      "text/plain": [
       "'\\nkey = eTILQrIdNdLu9vMvk9WM197IGYAohx88nIlLcuBxfLBfPc15S1rZ1rqKrDXC9G5\\nhttp://www.utic.go.kr/guide/cctvOpenData.do?key=인증키\\n'"
      ]
     },
     "execution_count": 1,
     "metadata": {},
     "output_type": "execute_result"
    }
   ],
   "source": [
    "\"\"\"\n",
    "key = eTILQrIdNdLu9vMvk9WM197IGYAohx88nIlLcuBxfLBfPc15S1rZ1rqKrDXC9G5\n",
    "http://www.utic.go.kr/guide/cctvOpenData.do?key=인증키\n",
    "\"\"\""
   ]
  },
  {
   "cell_type": "code",
   "execution_count": 2,
   "metadata": {},
   "outputs": [],
   "source": [
    "import requests\n",
    "\n",
    "# 제공받은 API 키와 요청 URL\n",
    "api_key = 'eTILQrIdNdLu9vMvk9WM197IGYAohx88nIlLcuBxfLBfPc15S1rZ1rqKrDXC9G5'\n",
    "url = f'http://www.utic.go.kr/guide/cctvOpenData.do?key={api_key}'\n",
    "\n",
    "# 웹 요청 보내기\n",
    "response = requests.get(url)\n",
    "\n",
    "# text 메서드로 HTML 문서를 다운로드 받을 수 있음\n",
    "html = requests.get(url).text"
   ]
  },
  {
   "cell_type": "code",
   "execution_count": 3,
   "metadata": {},
   "outputs": [
    {
     "data": {
      "text/plain": [
       "\"\\n# HTML 내용을 텍스트 파일에 저장\\nwith open('output.txt', 'w', encoding='utf-8') as file:\\n    file.write(html)\\n\""
      ]
     },
     "execution_count": 3,
     "metadata": {},
     "output_type": "execute_result"
    }
   ],
   "source": [
    "\"\"\"\n",
    "# HTML 내용을 텍스트 파일에 저장\n",
    "with open('output.txt', 'w', encoding='utf-8') as file:\n",
    "    file.write(html)\n",
    "\"\"\""
   ]
  },
  {
   "cell_type": "code",
   "execution_count": 4,
   "metadata": {},
   "outputs": [
    {
     "data": {
      "text/plain": [
       "\"\\nfrom selenium import webdriver\\nfrom selenium.webdriver.common.by import By\\n\\n# EdgeDriver의 경로를 입력합니다.\\ndriver_path = 'D:\\\\Study\\\\TeamProject_2\\\\CCTV_API_Test\\\\edgedriver_win64'\\n\\n# WebDriver 객체를 생성합니다.\\ndriver = webdriver.Edge(driver_path)\\n\\n# 웹페이지를 불러옵니다.\\ndriver.get('http://www.utic.go.kr/guide/cctvOpenData.do?key=eTILQrIdNdLu9vMvk9WM197IGYAohx88nIlLcuBxfLBfPc15S1rZ1rqKrDXC9G5')\\n\\n# 동영상 태그를 찾습니다.\\nvideo_elements = driver.find_elements(By.TAG_NAME, 'video')\\n\\n# 각 동영상 요소에서 URL을 추출합니다.\\nfor video in video_elements:\\n    source = video.get_attribute('src')\\n    print('Video URL:', source)\\n\\n# WebDriver를 종료합니다.\\ndriver.quit()\\n\""
      ]
     },
     "execution_count": 4,
     "metadata": {},
     "output_type": "execute_result"
    }
   ],
   "source": [
    "\"\"\"\n",
    "from selenium import webdriver\n",
    "from selenium.webdriver.common.by import By\n",
    "\n",
    "# EdgeDriver의 경로를 입력합니다.\n",
    "driver_path = 'D:\\Study\\TeamProject_2\\CCTV_API_Test\\edgedriver_win64'\n",
    "\n",
    "# WebDriver 객체를 생성합니다.\n",
    "driver = webdriver.Edge(driver_path)\n",
    "\n",
    "# 웹페이지를 불러옵니다.\n",
    "driver.get('http://www.utic.go.kr/guide/cctvOpenData.do?key=eTILQrIdNdLu9vMvk9WM197IGYAohx88nIlLcuBxfLBfPc15S1rZ1rqKrDXC9G5')\n",
    "\n",
    "# 동영상 태그를 찾습니다.\n",
    "video_elements = driver.find_elements(By.TAG_NAME, 'video')\n",
    "\n",
    "# 각 동영상 요소에서 URL을 추출합니다.\n",
    "for video in video_elements:\n",
    "    source = video.get_attribute('src')\n",
    "    print('Video URL:', source)\n",
    "\n",
    "# WebDriver를 종료합니다.\n",
    "driver.quit()\n",
    "\"\"\""
   ]
  },
  {
   "cell_type": "code",
   "execution_count": 5,
   "metadata": {},
   "outputs": [
    {
     "data": {
      "text/plain": [
       "\"\\n# CCTV 리스트 로드\\nimport pandas as pd\\n\\ndf = pd.read_csv('D:\\\\Study\\\\TeamProject_2\\\\CCTV_API_Test\\\\OpenDataCCTV.csv')\\n\""
      ]
     },
     "execution_count": 5,
     "metadata": {},
     "output_type": "execute_result"
    }
   ],
   "source": [
    "\"\"\"\n",
    "# CCTV 리스트 로드\n",
    "import pandas as pd\n",
    "\n",
    "df = pd.read_csv('D:\\Study\\TeamProject_2\\CCTV_API_Test\\OpenDataCCTV.csv')\n",
    "\"\"\""
   ]
  },
  {
   "cell_type": "code",
   "execution_count": 6,
   "metadata": {},
   "outputs": [
    {
     "data": {
      "text/plain": [
       "\"\\n# '서울교통정보센터' 데이터만 추출\\ndf = df[df['CENTERNAME'] == '서울교통정보센터']\\ndf.drop('RN', axis=1, inplace=True)\\ndf.reset_index(inplace=True)\\ndf.head(5)\\n\""
      ]
     },
     "execution_count": 6,
     "metadata": {},
     "output_type": "execute_result"
    }
   ],
   "source": [
    "\"\"\"\n",
    "# '서울교통정보센터' 데이터만 추출\n",
    "df = df[df['CENTERNAME'] == '서울교통정보센터']\n",
    "df.drop('RN', axis=1, inplace=True)\n",
    "df.reset_index(inplace=True)\n",
    "df.head(5)\n",
    "\"\"\""
   ]
  },
  {
   "cell_type": "code",
   "execution_count": 7,
   "metadata": {},
   "outputs": [],
   "source": [
    "# '서울교통정보센터' CCTV 목록 데이터 csv파일로 생성\n",
    "# df.to_csv('D:\\Study\\TeamProject_2\\CCTV_API_Test\\CCTV_Seoul.csv', index=None)"
   ]
  },
  {
   "cell_type": "code",
   "execution_count": null,
   "metadata": {},
   "outputs": [],
   "source": [
    "# '서울교통정보센터' CCTV 목록 불러오기\n",
    "import pandas as pd\n",
    "\n",
    "df = pd.read_csv('D:\\Study\\TeamProject_2\\CCTV_API_Test\\CCTV_Seoul.csv')\n",
    "df.head(5)"
   ]
  },
  {
   "cell_type": "code",
   "execution_count": 1,
   "metadata": {},
   "outputs": [
    {
     "name": "stdout",
     "output_type": "stream",
     "text": [
      "http://210.179.218.52:1935/live/192.stream/playlist.m3u8\n"
     ]
    }
   ],
   "source": [
    "from selenium import webdriver\n",
    "from selenium.webdriver.edge.service import Service\n",
    "from selenium.webdriver.common.by import By\n",
    "from selenium.webdriver.support.ui import WebDriverWait\n",
    "from selenium.webdriver.support import expected_conditions as EC\n",
    "from bs4 import BeautifulSoup\n",
    "\n",
    "# 제공받은 API 키와 요청 URL\n",
    "api_key = 'eTILQrIdNdLu9vMvk9WM197IGYAohx88nIlLcuBxfLBfPc15S1rZ1rqKrDXC9G5'\n",
    "url = f'http://www.utic.go.kr/guide/cctvOpenData.do?key={api_key}'\n",
    "\n",
    "# Selenium 드라이버 초기화\n",
    "driver = webdriver.Edge(service=Service('D:/Study/TeamProject_2/CCTV_API_Test/edgedriver_win64'))\n",
    "\n",
    "# API에 접속\n",
    "driver.get(url)\n",
    "\n",
    "# CCTV ID 설정\n",
    "cctv_id = 'L010102'\n",
    "\n",
    "# JavaScript 함수 실행\n",
    "driver.execute_script(f\"test('{cctv_id}')\")\n",
    "\n",
    "# 새 창이 열릴 때까지 대기\n",
    "WebDriverWait(driver, 10).until(EC.number_of_windows_to_be(2))\n",
    "\n",
    "# 새 창으로 전환\n",
    "driver.switch_to.window(driver.window_handles[-1])\n",
    "\n",
    "# 페이지 소스 가져오기\n",
    "page_source = driver.page_source\n",
    "\n",
    "# BeautifulSoup을 사용하여 페이지 파싱\n",
    "soup = BeautifulSoup(page_source, 'html.parser')\n",
    "\n",
    "# 스트림 URL 추출\n",
    "stream_url = soup.find('source')['src']\n",
    "\n",
    "print(stream_url)"
   ]
  },
  {
   "cell_type": "code",
   "execution_count": 23,
   "metadata": {},
   "outputs": [
    {
     "name": "stderr",
     "output_type": "stream",
     "text": [
      "Processing: 100%|██████████| 316/316 [07:04<00:00,  1.34s/it]"
     ]
    },
    {
     "name": "stdout",
     "output_type": "stream",
     "text": [
      "['http://210.179.218.53:1935/live/291.stream/playlist.m3u8', 'http://210.179.218.53:1935/live/322.stream/playlist.m3u8', 'http://210.179.218.51:1935/live/83.stream/playlist.m3u8', 'http://210.179.218.54:1935/live/333.stream/playlist.m3u8', 'http://210.179.218.52:1935/live/231.stream/playlist.m3u8', 'http://210.179.218.52:1935/live/230.stream/playlist.m3u8', 'http://210.179.218.51:1935/live/40.stream/playlist.m3u8', 'http://210.179.218.52:1935/live/186.stream/playlist.m3u8', 'http://210.179.218.52:1935/live/207.stream/playlist.m3u8', 'http://210.179.218.51:1935/live/54.stream/playlist.m3u8', 'http://210.179.218.51:1935/live/103.stream/playlist.m3u8', 'http://210.179.218.52:1935/live/204.stream/playlist.m3u8', 'http://210.179.218.51:1935/live/89.stream/playlist.m3u8', 'http://210.179.218.54:1935/live/331.stream/playlist.m3u8', 'http://210.179.218.52:1935/live/242.stream/playlist.m3u8', 'http://210.179.218.51:1935/live/3.stream/playlist.m3u8', 'http://210.179.218.52:1935/live/243.stream/playlist.m3u8', 'http://210.179.218.51:1935/live/63.stream/playlist.m3u8', 'http://210.179.218.53:1935/live/315.stream/playlist.m3u8', 'http://210.179.218.51:1935/live/100.stream/playlist.m3u8', 'http://210.179.218.52:1935/live/148.stream/playlist.m3u8', 'http://210.179.218.52:1935/live/149.stream/playlist.m3u8', 'http://210.179.218.51:1935/live/23.stream/playlist.m3u8', 'http://210.179.218.51:1935/live/48.stream/playlist.m3u8', 'http://210.179.218.53:1935/live/313.stream/playlist.m3u8', 'http://210.179.218.52:1935/live/254.stream/playlist.m3u8', 'http://210.179.218.51:1935/live/62.stream/playlist.m3u8', 'http://210.179.218.53:1935/live/273.stream/playlist.m3u8', 'http://210.179.218.51:1935/live/44.stream/playlist.m3u8', 'http://210.179.218.53:1935/live/289.stream/playlist.m3u8', 'http://210.179.218.52:1935/live/209.stream/playlist.m3u8', 'http://210.179.218.51:1935/live/95.stream/playlist.m3u8', 'http://210.179.218.53:1935/live/270.stream/playlist.m3u8', 'http://210.179.218.51:1935/live/32.stream/playlist.m3u8', 'http://210.179.218.53:1935/live/310.stream/playlist.m3u8', 'http://210.179.218.52:1935/live/188.stream/playlist.m3u8', 'http://210.179.218.53:1935/live/288.stream/playlist.m3u8', 'http://210.179.218.53:1935/live/267.stream/playlist.m3u8', 'http://210.179.218.51:1935/live/10.stream/playlist.m3u8', 'http://210.179.218.52:1935/live/258.stream/playlist.m3u8', 'http://210.179.218.51:1935/live/52.stream/playlist.m3u8', 'http://210.179.218.51:1935/live/82.stream/playlist.m3u8', 'http://210.179.218.51:1935/live/36.stream/playlist.m3u8', 'http://210.179.218.54:1935/live/1001.stream/playlist.m3u8', 'http://210.179.218.53:1935/live/275.stream/playlist.m3u8', 'http://210.179.218.51:1935/live/123.stream/playlist.m3u8', 'http://210.179.218.52:1935/live/234.stream/playlist.m3u8', 'http://210.179.218.null:1935/live/null.stream/playlist.m3u8', 'http://210.179.218.51:1935/live/130.stream/playlist.m3u8', 'http://210.179.218.52:1935/live/138.stream/playlist.m3u8', 'http://210.179.218.53:1935/live/316.stream/playlist.m3u8', 'http://210.179.218.51:1935/live/90.stream/playlist.m3u8', 'http://210.179.218.51:1935/live/73.stream/playlist.m3u8', 'http://210.179.218.51:1935/live/30.stream/playlist.m3u8', 'http://210.179.218.51:1935/live/74.stream/playlist.m3u8', 'http://210.179.218.52:1935/live/211.stream/playlist.m3u8', 'http://210.179.218.52:1935/live/257.stream/playlist.m3u8', 'http://210.179.218.53:1935/live/323.stream/playlist.m3u8', 'http://210.179.218.53:1935/live/280.stream/playlist.m3u8', 'http://210.179.218.51:1935/live/58.stream/playlist.m3u8', 'http://210.179.218.null:1935/live/null.stream/playlist.m3u8', 'http://210.179.218.54:1935/live/339.stream/playlist.m3u8', 'http://210.179.218.51:1935/live/70.stream/playlist.m3u8', 'http://210.179.218.51:1935/live/127.stream/playlist.m3u8', 'http://210.179.218.51:1935/live/67.stream/playlist.m3u8', 'http://210.179.218.53:1935/live/286.stream/playlist.m3u8', 'http://210.179.218.53:1935/live/262.stream/playlist.m3u8', 'http://210.179.218.52:1935/live/241.stream/playlist.m3u8', 'http://210.179.218.52:1935/live/134.stream/playlist.m3u8', 'http://210.179.218.52:1935/live/146.stream/playlist.m3u8', 'http://210.179.218.52:1935/live/183.stream/playlist.m3u8', 'http://210.179.218.54:1935/live/328.stream/playlist.m3u8', 'http://210.179.218.51:1935/live/126.stream/playlist.m3u8', 'http://210.179.218.51:1935/live/15.stream/playlist.m3u8', 'http://210.179.218.52:1935/live/166.stream/playlist.m3u8', 'http://210.179.218.51:1935/live/43.stream/playlist.m3u8', 'http://210.179.218.53:1935/live/307.stream/playlist.m3u8', 'http://210.179.218.52:1935/live/172.stream/playlist.m3u8', 'http://210.179.218.52:1935/live/158.stream/playlist.m3u8', 'http://210.179.218.52:1935/live/196.stream/playlist.m3u8', 'http://210.179.218.52:1935/live/218.stream/playlist.m3u8', 'http://210.179.218.52:1935/live/247.stream/playlist.m3u8', 'http://210.179.218.52:1935/live/163.stream/playlist.m3u8', 'http://210.179.218.53:1935/live/295.stream/playlist.m3u8', 'http://210.179.218.51:1935/live/47.stream/playlist.m3u8', 'http://210.179.218.null:1935/live/null.stream/playlist.m3u8', 'http://210.179.218.52:1935/live/167.stream/playlist.m3u8', 'http://210.179.218.52:1935/live/187.stream/playlist.m3u8', 'http://210.179.218.53:1935/live/276.stream/playlist.m3u8', 'http://210.179.218.52:1935/live/232.stream/playlist.m3u8', 'http://210.179.218.51:1935/live/21.stream/playlist.m3u8', 'http://210.179.218.51:1935/live/98.stream/playlist.m3u8', 'http://210.179.218.52:1935/live/246.stream/playlist.m3u8', 'http://210.179.218.52:1935/live/140.stream/playlist.m3u8', 'http://210.179.218.51:1935/live/64.stream/playlist.m3u8', 'http://210.179.218.53:1935/live/283.stream/playlist.m3u8', 'http://210.179.218.52:1935/live/192.stream/playlist.m3u8', 'http://210.179.218.51:1935/live/56.stream/playlist.m3u8', 'http://210.179.218.51:1935/live/102.stream/playlist.m3u8', 'http://210.179.218.52:1935/live/145.stream/playlist.m3u8', 'http://210.179.218.52:1935/live/259.stream/playlist.m3u8', 'http://210.179.218.51:1935/live/87.stream/playlist.m3u8', 'http://210.179.218.53:1935/live/265.stream/playlist.m3u8', 'http://210.179.218.52:1935/live/143.stream/playlist.m3u8', 'http://210.179.218.53:1935/live/318.stream/playlist.m3u8', 'http://210.179.218.51:1935/live/68.stream/playlist.m3u8', 'http://210.179.218.52:1935/live/213.stream/playlist.m3u8', 'http://210.179.218.53:1935/live/298.stream/playlist.m3u8', 'http://210.179.218.52:1935/live/221.stream/playlist.m3u8', 'http://210.179.218.51:1935/live/118.stream/playlist.m3u8', 'http://210.179.218.52:1935/live/189.stream/playlist.m3u8', 'http://210.179.218.51:1935/live/75.stream/playlist.m3u8', 'http://210.179.218.51:1935/live/28.stream/playlist.m3u8', 'http://210.179.218.52:1935/live/220.stream/playlist.m3u8', 'http://210.179.218.52:1935/live/223.stream/playlist.m3u8', 'http://210.179.218.52:1935/live/139.stream/playlist.m3u8', 'http://210.179.218.52:1935/live/141.stream/playlist.m3u8', 'http://210.179.218.52:1935/live/240.stream/playlist.m3u8', 'http://210.179.218.53:1935/live/319.stream/playlist.m3u8', 'http://210.179.218.51:1935/live/111.stream/playlist.m3u8', 'http://210.179.218.52:1935/live/260.stream/playlist.m3u8', 'http://210.179.218.51:1935/live/78.stream/playlist.m3u8', 'http://210.179.218.51:1935/live/2.stream/playlist.m3u8', 'http://210.179.218.51:1935/live/1.stream/playlist.m3u8', 'http://210.179.218.54:1935/live/329.stream/playlist.m3u8', 'http://210.179.218.52:1935/live/178.stream/playlist.m3u8', 'http://210.179.218.52:1935/live/205.stream/playlist.m3u8', 'http://210.179.218.52:1935/live/235.stream/playlist.m3u8', 'http://210.179.218.51:1935/live/50.stream/playlist.m3u8', 'http://210.179.218.51:1935/live/93.stream/playlist.m3u8', 'http://210.179.218.53:1935/live/274.stream/playlist.m3u8', 'http://210.179.218.51:1935/live/35.stream/playlist.m3u8', 'http://210.179.218.51:1935/live/72.stream/playlist.m3u8', 'http://210.179.218.51:1935/live/55.stream/playlist.m3u8', 'http://210.179.218.52:1935/live/185.stream/playlist.m3u8', 'http://210.179.218.53:1935/live/306.stream/playlist.m3u8', 'http://210.179.218.51:1935/live/29.stream/playlist.m3u8', 'http://210.179.218.51:1935/live/12.stream/playlist.m3u8', 'http://210.179.218.52:1935/live/193.stream/playlist.m3u8', 'http://210.179.218.53:1935/live/317.stream/playlist.m3u8', 'http://210.179.218.52:1935/live/239.stream/playlist.m3u8', 'http://210.179.218.52:1935/live/233.stream/playlist.m3u8', 'http://210.179.218.51:1935/live/51.stream/playlist.m3u8', 'http://210.179.218.52:1935/live/135.stream/playlist.m3u8', 'http://210.179.218.53:1935/live/269.stream/playlist.m3u8', 'http://210.179.218.51:1935/live/18.stream/playlist.m3u8', 'http://210.179.218.51:1935/live/20.stream/playlist.m3u8', 'http://210.179.218.51:1935/live/19.stream/playlist.m3u8', 'http://210.179.218.52:1935/live/197.stream/playlist.m3u8', 'http://210.179.218.52:1935/live/182.stream/playlist.m3u8', 'http://210.179.218.52:1935/live/212.stream/playlist.m3u8', 'http://210.179.218.52:1935/live/152.stream/playlist.m3u8', 'http://210.179.218.51:1935/live/61.stream/playlist.m3u8', 'http://210.179.218.51:1935/live/110.stream/playlist.m3u8', 'http://210.179.218.51:1935/live/5.stream/playlist.m3u8', 'http://210.179.218.53:1935/live/312.stream/playlist.m3u8', 'http://210.179.218.52:1935/live/227.stream/playlist.m3u8', 'http://210.179.218.52:1935/live/228.stream/playlist.m3u8', 'http://210.179.218.52:1935/live/142.stream/playlist.m3u8', 'http://210.179.218.53:1935/live/302.stream/playlist.m3u8', 'http://210.179.218.52:1935/live/160.stream/playlist.m3u8', 'http://210.179.218.51:1935/live/60.stream/playlist.m3u8', 'http://210.179.218.51:1935/live/66.stream/playlist.m3u8', 'http://210.179.218.51:1935/live/25.stream/playlist.m3u8', 'http://210.179.218.54:1935/live/340.stream/playlist.m3u8', 'http://210.179.218.53:1935/live/308.stream/playlist.m3u8', 'http://210.179.218.52:1935/live/177.stream/playlist.m3u8', 'http://210.179.218.51:1935/live/33.stream/playlist.m3u8', 'http://210.179.218.51:1935/live/7.stream/playlist.m3u8', 'http://210.179.218.52:1935/live/177.stream/playlist.m3u8', 'http://210.179.218.51:1935/live/14.stream/playlist.m3u8', 'http://210.179.218.51:1935/live/92.stream/playlist.m3u8', 'http://210.179.218.52:1935/live/250.stream/playlist.m3u8', 'http://210.179.218.51:1935/live/99.stream/playlist.m3u8', 'http://210.179.218.51:1935/live/45.stream/playlist.m3u8', 'http://210.179.218.52:1935/live/245.stream/playlist.m3u8', 'http://210.179.218.53:1935/live/309.stream/playlist.m3u8', 'http://210.179.218.52:1935/live/131.stream/playlist.m3u8', 'http://210.179.218.52:1935/live/147.stream/playlist.m3u8', 'http://210.179.218.52:1935/live/248.stream/playlist.m3u8', 'http://210.179.218.53:1935/live/279.stream/playlist.m3u8', 'http://210.179.218.52:1935/live/176.stream/playlist.m3u8', 'http://210.179.218.52:1935/live/194.stream/playlist.m3u8', 'http://210.179.218.52:1935/live/208.stream/playlist.m3u8', 'http://210.179.218.53:1935/live/304.stream/playlist.m3u8', 'http://210.179.218.51:1935/live/86.stream/playlist.m3u8', 'http://210.179.218.51:1935/live/41.stream/playlist.m3u8', 'http://210.179.218.53:1935/live/301.stream/playlist.m3u8', 'http://210.179.218.51:1935/live/124.stream/playlist.m3u8', 'http://210.179.218.51:1935/live/38.stream/playlist.m3u8', 'http://210.179.218.51:1935/live/84.stream/playlist.m3u8', 'http://210.179.218.51:1935/live/39.stream/playlist.m3u8', 'http://210.179.218.54:1935/live/1036.stream/playlist.m3u8', 'http://210.179.218.53:1935/live/305.stream/playlist.m3u8', 'http://210.179.218.51:1935/live/37.stream/playlist.m3u8', 'http://210.179.218.51:1935/live/85.stream/playlist.m3u8', 'http://210.179.218.54:1935/live/338.stream/playlist.m3u8', 'http://210.179.218.53:1935/live/285.stream/playlist.m3u8', 'http://210.179.218.51:1935/live/16.stream/playlist.m3u8', 'http://210.179.218.51:1935/live/11.stream/playlist.m3u8', 'http://210.179.218.51:1935/live/17.stream/playlist.m3u8', 'http://210.179.218.52:1935/live/210.stream/playlist.m3u8', 'http://210.179.218.54:1935/live/334.stream/playlist.m3u8', 'http://210.179.218.54:1935/live/327.stream/playlist.m3u8', 'http://210.179.218.52:1935/live/198.stream/playlist.m3u8', 'http://210.179.218.53:1935/live/268.stream/playlist.m3u8', 'http://210.179.218.52:1935/live/224.stream/playlist.m3u8', 'http://210.179.218.51:1935/live/96.stream/playlist.m3u8', 'http://210.179.218.51:1935/live/34.stream/playlist.m3u8', 'http://210.179.218.53:1935/live/290.stream/playlist.m3u8', 'http://210.179.218.51:1935/live/8.stream/playlist.m3u8', 'http://210.179.218.52:1935/live/249.stream/playlist.m3u8', 'http://210.179.218.52:1935/live/237.stream/playlist.m3u8', 'http://210.179.218.51:1935/live/94.stream/playlist.m3u8', 'http://210.179.218.52:1935/live/236.stream/playlist.m3u8', 'http://210.179.218.51:1935/live/22.stream/playlist.m3u8', 'http://210.179.218.51:1935/live/31.stream/playlist.m3u8', 'http://210.179.218.53:1935/live/311.stream/playlist.m3u8', 'http://210.179.218.52:1935/live/216.stream/playlist.m3u8', 'http://210.179.218.53:1935/live/321.stream/playlist.m3u8', 'http://210.179.218.52:1935/live/217.stream/playlist.m3u8', 'http://210.179.218.52:1935/live/179.stream/playlist.m3u8', 'http://210.179.218.53:1935/live/271.stream/playlist.m3u8', 'http://210.179.218.53:1935/live/266.stream/playlist.m3u8', 'http://210.179.218.52:1935/live/255.stream/playlist.m3u8', 'http://210.179.218.51:1935/live/27.stream/playlist.m3u8', 'http://210.179.218.51:1935/live/69.stream/playlist.m3u8', 'http://210.179.218.53:1935/live/294.stream/playlist.m3u8', 'http://210.179.218.53:1935/live/284.stream/playlist.m3u8', 'http://210.179.218.51:1935/live/80.stream/playlist.m3u8', 'http://210.179.218.52:1935/live/244.stream/playlist.m3u8', 'http://210.179.218.51:1935/live/116.stream/playlist.m3u8', 'http://210.179.218.51:1935/live/117.stream/playlist.m3u8', 'http://210.179.218.51:1935/live/119.stream/playlist.m3u8', 'http://210.179.218.54:1935/live/332.stream/playlist.m3u8', 'http://210.179.218.51:1935/live/4.stream/playlist.m3u8', 'http://210.179.218.51:1935/live/120.stream/playlist.m3u8', 'http://210.179.218.51:1935/live/109.stream/playlist.m3u8', 'http://210.179.218.54:1935/live/337.stream/playlist.m3u8', 'http://210.179.218.54:1935/live/336.stream/playlist.m3u8', 'http://210.179.218.51:1935/live/9.stream/playlist.m3u8', 'http://210.179.218.52:1935/live/169.stream/playlist.m3u8', 'http://210.179.218.52:1935/live/170.stream/playlist.m3u8', 'http://210.179.218.53:1935/live/277.stream/playlist.m3u8', 'http://210.179.218.52:1935/live/171.stream/playlist.m3u8', 'http://210.179.218.53:1935/live/287.stream/playlist.m3u8', 'http://210.179.218.52:1935/live/181.stream/playlist.m3u8', 'http://210.179.218.54:1935/live/330.stream/playlist.m3u8', 'http://210.179.218.51:1935/live/46.stream/playlist.m3u8', 'http://210.179.218.51:1935/live/77.stream/playlist.m3u8', 'http://210.179.218.51:1935/live/76.stream/playlist.m3u8', 'http://210.179.218.52:1935/live/133.stream/playlist.m3u8', 'http://210.179.218.52:1935/live/238.stream/playlist.m3u8', 'http://210.179.218.53:1935/live/325.stream/playlist.m3u8', 'http://210.179.218.52:1935/live/202.stream/playlist.m3u8', 'http://210.179.218.52:1935/live/215.stream/playlist.m3u8', 'http://210.179.218.52:1935/live/191.stream/playlist.m3u8', 'http://210.179.218.51:1935/live/79.stream/playlist.m3u8', 'http://210.179.218.53:1935/live/281.stream/playlist.m3u8', 'http://210.179.218.51:1935/live/113.stream/playlist.m3u8', 'http://210.179.218.54:1935/live/335.stream/playlist.m3u8', 'http://210.179.218.null:1935/live/null.stream/playlist.m3u8', 'http://210.179.218.51:1935/live/122.stream/playlist.m3u8', 'http://210.179.218.53:1935/live/300.stream/playlist.m3u8', 'http://210.179.218.52:1935/live/144.stream/playlist.m3u8', 'http://210.179.218.52:1935/live/151.stream/playlist.m3u8', 'http://210.179.218.52:1935/live/214.stream/playlist.m3u8', 'http://210.179.218.53:1935/live/261.stream/playlist.m3u8', 'http://210.179.218.51:1935/live/121.stream/playlist.m3u8', 'http://210.179.218.53:1935/live/264.stream/playlist.m3u8', 'http://210.179.218.51:1935/live/6.stream/playlist.m3u8', 'http://210.179.218.52:1935/live/253.stream/playlist.m3u8', 'http://210.179.218.52:1935/live/132.stream/playlist.m3u8', 'http://210.179.218.51:1935/live/115.stream/playlist.m3u8', 'http://210.179.218.51:1935/live/128.stream/playlist.m3u8', 'http://210.179.218.51:1935/live/129.stream/playlist.m3u8', 'http://210.179.218.53:1935/live/282.stream/playlist.m3u8', 'http://210.179.218.51:1935/live/24.stream/playlist.m3u8', 'http://210.179.218.52:1935/live/154.stream/playlist.m3u8', 'http://210.179.218.52:1935/live/155.stream/playlist.m3u8', 'http://210.179.218.52:1935/live/156.stream/playlist.m3u8', 'http://210.179.218.52:1935/live/157.stream/playlist.m3u8', 'http://210.179.218.53:1935/live/292.stream/playlist.m3u8', 'http://210.179.218.52:1935/live/199.stream/playlist.m3u8', 'http://210.179.218.52:1935/live/201.stream/playlist.m3u8', 'http://210.179.218.52:1935/live/184.stream/playlist.m3u8', 'http://210.179.218.52:1935/live/162.stream/playlist.m3u8', 'http://210.179.218.54:1935/live/326.stream/playlist.m3u8', 'http://210.179.218.51:1935/live/49.stream/playlist.m3u8', 'http://210.179.218.52:1935/live/222.stream/playlist.m3u8', 'http://210.179.218.52:1935/live/229.stream/playlist.m3u8', 'http://210.179.218.52:1935/live/226.stream/playlist.m3u8', 'http://210.179.218.53:1935/live/324.stream/playlist.m3u8', 'http://210.179.218.51:1935/live/125.stream/playlist.m3u8', 'http://210.179.218.52:1935/live/203.stream/playlist.m3u8', 'http://210.179.218.52:1935/live/173.stream/playlist.m3u8', 'http://210.179.218.53:1935/live/299.stream/playlist.m3u8', 'http://210.179.218.53:1935/live/297.stream/playlist.m3u8', 'http://210.179.218.52:1935/live/225.stream/playlist.m3u8', 'http://210.179.218.51:1935/live/26.stream/playlist.m3u8', 'http://210.179.218.51:1935/live/57.stream/playlist.m3u8', 'http://210.179.218.52:1935/live/256.stream/playlist.m3u8', 'http://210.179.218.52:1935/live/136.stream/playlist.m3u8', 'http://210.179.218.52:1935/live/180.stream/playlist.m3u8', 'http://210.179.218.51:1935/live/42.stream/playlist.m3u8', 'http://210.179.218.51:1935/live/88.stream/playlist.m3u8', 'http://210.179.218.52:1935/live/252.stream/playlist.m3u8', 'http://210.179.218.51:1935/live/13.stream/playlist.m3u8', 'http://210.179.218.51:1935/live/101.stream/playlist.m3u8', 'http://210.179.218.51:1935/live/91.stream/playlist.m3u8', 'http://210.179.218.53:1935/live/263.stream/playlist.m3u8', 'http://210.179.218.51:1935/live/114.stream/playlist.m3u8', 'http://210.179.218.52:1935/live/164.stream/playlist.m3u8', 'http://210.179.218.51:1935/live/59.stream/playlist.m3u8', 'http://210.179.218.53:1935/live/303.stream/playlist.m3u8', 'http://210.179.218.53:1935/live/293.stream/playlist.m3u8']\n"
     ]
    },
    {
     "name": "stderr",
     "output_type": "stream",
     "text": [
      "\n"
     ]
    }
   ],
   "source": [
    "from selenium import webdriver\n",
    "from selenium.webdriver.edge.service import Service\n",
    "from selenium.webdriver.common.by import By\n",
    "from selenium.webdriver.support.ui import WebDriverWait\n",
    "from selenium.webdriver.support import expected_conditions as EC\n",
    "from bs4 import BeautifulSoup\n",
    "import pandas as pd\n",
    "from tqdm import tqdm\n",
    "\n",
    "# '서울교통정보센터' CCTV 목록 불러오기\n",
    "df = pd.read_csv('D:\\Study\\TeamProject_2\\CCTV_API_Test\\CCTV_Seoul.csv')\n",
    "\n",
    "# 제공받은 API 키와 요청 URL\n",
    "api_key = 'eTILQrIdNdLu9vMvk9WM197IGYAohx88nIlLcuBxfLBfPc15S1rZ1rqKrDXC9G5'\n",
    "url = f'http://www.utic.go.kr/guide/cctvOpenData.do?key={api_key}'\n",
    "\n",
    "# Selenium 드라이버 초기화\n",
    "driver = webdriver.Edge(service=Service('D:/Study/TeamProject_2/CCTV_API_Test/edgedriver_win64'))\n",
    "driver.get(url)\n",
    "\n",
    "cctvid_list = df[\"CCTVID\"].tolist()\n",
    "\n",
    "# 스트림 URL을 저장할 리스트\n",
    "stream_url_list = []\n",
    "\n",
    "for cctv_id in tqdm(cctvid_list, desc='Processing'):\n",
    "    driver.execute_script(f\"test('{cctv_id}')\")  # JavaScript 함수 실행\n",
    "    WebDriverWait(driver, 5).until(EC.number_of_windows_to_be(2))  # 새 창이 열릴 때까지 대기\n",
    "    current_window_handle = driver.current_window_handle  # 현재 창의 핸들 저장\n",
    "\n",
    "    # 새 창으로 전환\n",
    "    for window_handle in driver.window_handles:\n",
    "        if window_handle != current_window_handle:\n",
    "            driver.switch_to.window(window_handle)\n",
    "            break\n",
    "\n",
    "    page_source = driver.page_source  # 페이지 소스 가져오기\n",
    "\n",
    "    # BeautifulSoup을 사용하여 페이지 파싱\n",
    "    soup = BeautifulSoup(page_source, 'html.parser')\n",
    "    stream_url = soup.find('source')['src']  # 스트림 URL 추출\n",
    "    stream_url_list.append(stream_url)  # 추출한 스트림 URL을 리스트에 추가\n",
    "\n",
    "    # 현재 창 닫기\n",
    "    driver.close()\n",
    "\n",
    "    # 원래 창으로 전환\n",
    "    driver.switch_to.window(current_window_handle)\n",
    "\n",
    "print(stream_url_list)\n"
   ]
  },
  {
   "cell_type": "code",
   "execution_count": 25,
   "metadata": {},
   "outputs": [],
   "source": [
    "\"\"\"stream_url_list를 csv파일로 저장\n",
    "# stream_url_list를 데이터프레임으로 변환\n",
    "df_stream = pd.DataFrame(stream_url_list, columns=['StreamURL'])\n",
    "\n",
    "# CSV 파일로 저장\n",
    "df_stream.to_csv('D:\\Study\\TeamProject_2\\CCTV_API_Test\\stream_urls.csv', index=None)\n",
    "\"\"\""
   ]
  },
  {
   "cell_type": "code",
   "execution_count": 22,
   "metadata": {},
   "outputs": [
    {
     "name": "stderr",
     "output_type": "stream",
     "text": [
      "Processing: 100%|██████████| 10/10 [00:13<00:00,  1.34s/it]"
     ]
    },
    {
     "name": "stdout",
     "output_type": "stream",
     "text": [
      "['http://210.179.218.53:1935/live/291.stream/playlist.m3u8', 'http://210.179.218.53:1935/live/322.stream/playlist.m3u8', 'http://210.179.218.51:1935/live/83.stream/playlist.m3u8', 'http://210.179.218.54:1935/live/333.stream/playlist.m3u8', 'http://210.179.218.52:1935/live/231.stream/playlist.m3u8', 'http://210.179.218.52:1935/live/230.stream/playlist.m3u8', 'http://210.179.218.51:1935/live/40.stream/playlist.m3u8', 'http://210.179.218.52:1935/live/186.stream/playlist.m3u8', 'http://210.179.218.52:1935/live/207.stream/playlist.m3u8', 'http://210.179.218.51:1935/live/54.stream/playlist.m3u8']\n"
     ]
    },
    {
     "name": "stderr",
     "output_type": "stream",
     "text": [
      "\n"
     ]
    }
   ],
   "source": [
    "\"\"\"가독성 더 좋은 코드\n",
    "from selenium import webdriver\n",
    "from selenium.webdriver.edge.service import Service\n",
    "from selenium.webdriver.common.by import By\n",
    "from selenium.webdriver.support.ui import WebDriverWait\n",
    "from selenium.webdriver.support import expected_conditions as EC\n",
    "from bs4 import BeautifulSoup\n",
    "import pandas as pd\n",
    "from tqdm import tqdm\n",
    "\n",
    "# '서울교통정보센터' CCTV 목록 불러오기\n",
    "df = pd.read_csv('D:\\Study\\TeamProject_2\\CCTV_API_Test\\CCTV_Seoul.csv')\n",
    "\n",
    "# 제공받은 API 키와 요청 URL\n",
    "api_key = 'eTILQrIdNdLu9vMvk9WM197IGYAohx88nIlLcuBxfLBfPc15S1rZ1rqKrDXC9G5'\n",
    "url = f'http://www.utic.go.kr/guide/cctvOpenData.do?key={api_key}'\n",
    "\n",
    "# Selenium 드라이버 초기화\n",
    "driver = webdriver.Edge(service=Service('D:/Study/TeamProject_2/CCTV_API_Test/edgedriver_win64'))\n",
    "driver.get(url)\n",
    "\n",
    "# cctvid_list = df[\"CCTVID\"].tolist()\n",
    "\n",
    "cctvid_list = ['L010001',\n",
    "               'L010002',\n",
    "               'L010003',\n",
    "               'L010004',\n",
    "               'L010005',\n",
    "               'L010006',\n",
    "               'L010007',\n",
    "               'L010008',\n",
    "               'L010009',\n",
    "               'L010010',]\n",
    "\n",
    "# 스트림 URL을 저장할 리스트\n",
    "stream_url_list = []\n",
    "\n",
    "current_window_handle = driver.current_window_handle  # 현재 창의 핸들 저장\n",
    "\n",
    "for cctv_id in tqdm(cctvid_list, desc='Processing'):\n",
    "    driver.execute_script(f\"test('{cctv_id}')\")  # JavaScript 함수 실행\n",
    "    WebDriverWait(driver, 5).until(EC.number_of_windows_to_be(2))  # 새 창이 열릴 때까지 대기\n",
    "\n",
    "    # 새 창으로 전환\n",
    "    new_window_handle = [window_handle for window_handle in driver.window_handles if window_handle != current_window_handle][0]\n",
    "    driver.switch_to.window(new_window_handle)\n",
    "\n",
    "    page_source = driver.page_source  # 페이지 소스 가져오기\n",
    "\n",
    "    # BeautifulSoup을 사용하여 페이지 파싱\n",
    "    soup = BeautifulSoup(page_source, 'html.parser')\n",
    "    stream_url = soup.find('source')['src']  # 스트림 URL 추출\n",
    "    stream_url_list.append(stream_url)  # 추출한 스트림 URL을 리스트에 추가\n",
    "\n",
    "    # 현재 창 닫기\n",
    "    driver.close()\n",
    "\n",
    "    # 원래 창으로 전환\n",
    "    driver.switch_to.window(current_window_handle)\n",
    "\n",
    "print(stream_url_list)\n",
    "\"\"\""
   ]
  },
  {
   "cell_type": "code",
   "execution_count": 9,
   "metadata": {},
   "outputs": [],
   "source": [
    "# CCTV 스트림 페이지\n",
    "import pandas as pd\n",
    "import subprocess\n",
    "\n",
    "# cctv url불러오기\n",
    "df = pd.read_csv(\"D:\\Study\\TeamProject_2\\CCTV_API_Test\\CCTVID_URL\", index_col=0)\n",
    "\n",
    "# Get stream URL by CCTV name\n",
    "def get_stream_url(cctv_name):\n",
    "    return df[df['CCTVNAME'] == cctv_name]['StreamURL'].values[0]\n",
    "\n",
    "# save_stream 함수 정의\n",
    "def save_stream(cctv_name, duration, output_filename):\n",
    "    stream_url = get_stream_url(cctv_name)\n",
    "    output_folder = 'D:/Study/TeamProject_2/CCTV_API_Test/web_test_data/'\n",
    "    command = f\"ffmpeg -i \\\"{stream_url}\\\" -t {duration} -c copy \\\"{output_folder}{output_filename}\\\"\"\n",
    "    subprocess.run(command, shell=True)"
   ]
  },
  {
   "cell_type": "code",
   "execution_count": 10,
   "metadata": {},
   "outputs": [
    {
     "data": {
      "text/html": [
       "<div>\n",
       "<style scoped>\n",
       "    .dataframe tbody tr th:only-of-type {\n",
       "        vertical-align: middle;\n",
       "    }\n",
       "\n",
       "    .dataframe tbody tr th {\n",
       "        vertical-align: top;\n",
       "    }\n",
       "\n",
       "    .dataframe thead th {\n",
       "        text-align: right;\n",
       "    }\n",
       "</style>\n",
       "<table border=\"1\" class=\"dataframe\">\n",
       "  <thead>\n",
       "    <tr style=\"text-align: right;\">\n",
       "      <th></th>\n",
       "      <th>CCTVID</th>\n",
       "      <th>CCTVNAME</th>\n",
       "      <th>StreamURL</th>\n",
       "    </tr>\n",
       "  </thead>\n",
       "  <tbody>\n",
       "    <tr>\n",
       "      <th>0</th>\n",
       "      <td>L010001</td>\n",
       "      <td>2,3호터널</td>\n",
       "      <td>http://210.179.218.53:1935/live/291.stream/pla...</td>\n",
       "    </tr>\n",
       "    <tr>\n",
       "      <th>1</th>\n",
       "      <td>L010002</td>\n",
       "      <td>3기동단 4거리</td>\n",
       "      <td>http://210.179.218.53:1935/live/322.stream/pla...</td>\n",
       "    </tr>\n",
       "    <tr>\n",
       "      <th>2</th>\n",
       "      <td>L010003</td>\n",
       "      <td>63빌딩</td>\n",
       "      <td>http://210.179.218.51:1935/live/83.stream/play...</td>\n",
       "    </tr>\n",
       "    <tr>\n",
       "      <th>3</th>\n",
       "      <td>L010004</td>\n",
       "      <td>AT센터</td>\n",
       "      <td>http://210.179.218.54:1935/live/333.stream/pla...</td>\n",
       "    </tr>\n",
       "    <tr>\n",
       "      <th>4</th>\n",
       "      <td>L010005</td>\n",
       "      <td>가락시장</td>\n",
       "      <td>http://210.179.218.52:1935/live/231.stream/pla...</td>\n",
       "    </tr>\n",
       "  </tbody>\n",
       "</table>\n",
       "</div>"
      ],
      "text/plain": [
       "    CCTVID  CCTVNAME                                          StreamURL\n",
       "0  L010001    2,3호터널  http://210.179.218.53:1935/live/291.stream/pla...\n",
       "1  L010002  3기동단 4거리  http://210.179.218.53:1935/live/322.stream/pla...\n",
       "2  L010003      63빌딩  http://210.179.218.51:1935/live/83.stream/play...\n",
       "3  L010004      AT센터  http://210.179.218.54:1935/live/333.stream/pla...\n",
       "4  L010005      가락시장  http://210.179.218.52:1935/live/231.stream/pla..."
      ]
     },
     "execution_count": 10,
     "metadata": {},
     "output_type": "execute_result"
    }
   ],
   "source": [
    "df.head(5)"
   ]
  },
  {
   "cell_type": "code",
   "execution_count": null,
   "metadata": {},
   "outputs": [],
   "source": []
  }
 ],
 "metadata": {
  "kernelspec": {
   "display_name": "TP2",
   "language": "python",
   "name": "python3"
  },
  "language_info": {
   "codemirror_mode": {
    "name": "ipython",
    "version": 3
   },
   "file_extension": ".py",
   "mimetype": "text/x-python",
   "name": "python",
   "nbconvert_exporter": "python",
   "pygments_lexer": "ipython3",
   "version": "3.8.16"
  },
  "orig_nbformat": 4
 },
 "nbformat": 4,
 "nbformat_minor": 2
}
